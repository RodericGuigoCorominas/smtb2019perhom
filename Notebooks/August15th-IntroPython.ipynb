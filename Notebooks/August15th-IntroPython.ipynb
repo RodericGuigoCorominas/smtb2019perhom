{
 "cells": [
  {
   "cell_type": "markdown",
   "metadata": {},
   "source": [
    "# This is an iPython notebook\n",
    "#### Press Shift + Intro to execute each cell.\n",
    "\n",
    "First, you can use Python just as a calculator. \n",
    "The ```print()``` function prints the specified message to the screen, or other standard output device. The message can be a string, or any other object, the object will be converted into a string before written to the screen."
   ]
  },
  {
   "cell_type": "code",
   "execution_count": 5,
   "metadata": {},
   "outputs": [
    {
     "name": "stdout",
     "output_type": "stream",
     "text": [
      "3\n",
      "-7\n",
      "0.5\n",
      "0\n",
      "5.0\n"
     ]
    }
   ],
   "source": [
    "print(1+2)\n",
    "print(3-10)\n",
    "print(4/8)\n",
    "print(4//8) #This indicates integer division\n",
    "print(0.5*10)"
   ]
  },
  {
   "cell_type": "code",
   "execution_count": 4,
   "metadata": {},
   "outputs": [
    {
     "name": "stdout",
     "output_type": "stream",
     "text": [
      "64\n",
      "4.0\n"
     ]
    }
   ],
   "source": [
    "print(4**3) #This takes 4 to the power 3\n",
    "print(16**(0.5)) #This takes the square root"
   ]
  },
  {
   "cell_type": "markdown",
   "metadata": {},
   "source": [
    "### Variables\n",
    "You can assign values to variables by using the equal sign $=$"
   ]
  },
  {
   "cell_type": "code",
   "execution_count": 8,
   "metadata": {},
   "outputs": [
    {
     "name": "stdout",
     "output_type": "stream",
     "text": [
      "14\n",
      "-4\n",
      "45\n",
      "0.5555555555555556\n",
      "0\n",
      "1953125\n"
     ]
    }
   ],
   "source": [
    "a=5\n",
    "b=9\n",
    "\n",
    "#Now a has a value of 5 and b a value of 9. You can operate with a and b directly\n",
    "print(a+b)\n",
    "print(a-b)\n",
    "print(a*b)\n",
    "print(a/b)\n",
    "print(a//b)\n",
    "print(a**b)"
   ]
  },
  {
   "cell_type": "markdown",
   "metadata": {},
   "source": [
    "Variables have types, such as integer, float, list or string. "
   ]
  },
  {
   "cell_type": "code",
   "execution_count": 30,
   "metadata": {},
   "outputs": [
    {
     "name": "stdout",
     "output_type": "stream",
     "text": [
      "<class 'int'>\n",
      "<class 'float'>\n",
      "<class 'list'>\n",
      "<class 'str'>\n"
     ]
    }
   ],
   "source": [
    "print(type(3))\n",
    "print(type(3.5))\n",
    "print(type([3.5]))\n",
    "print(type(\"hello\"))"
   ]
  },
  {
   "cell_type": "markdown",
   "metadata": {},
   "source": [
    "## Libraries\n",
    "Many functions in Python have already been written by different people. You can load such non-standard libraries using the command $\\texttt{import}$\n",
    "### Mathematical functions\n",
    "Most mathematical function belong to the library $\\texttt{math}$. To load a library, use ```import math```. Imported libraries can have aliases.\n",
    "\n",
    "If you try to call a function that hasn't been loaded there is an error message. "
   ]
  },
  {
   "cell_type": "code",
   "execution_count": 10,
   "metadata": {},
   "outputs": [
    {
     "ename": "NameError",
     "evalue": "name 'math' is not defined",
     "output_type": "error",
     "traceback": [
      "\u001b[0;31m---------------------------------------------------------------------------\u001b[0m",
      "\u001b[0;31mNameError\u001b[0m                                 Traceback (most recent call last)",
      "\u001b[0;32m<ipython-input-10-51da56319904>\u001b[0m in \u001b[0;36m<module>\u001b[0;34m\u001b[0m\n\u001b[0;32m----> 1\u001b[0;31m \u001b[0mprint\u001b[0m\u001b[0;34m(\u001b[0m\u001b[0mmath\u001b[0m\u001b[0;34m.\u001b[0m\u001b[0mcos\u001b[0m\u001b[0;34m(\u001b[0m\u001b[0;36m2\u001b[0m\u001b[0;34m)\u001b[0m\u001b[0;34m)\u001b[0m\u001b[0;34m\u001b[0m\u001b[0;34m\u001b[0m\u001b[0m\n\u001b[0m",
      "\u001b[0;31mNameError\u001b[0m: name 'math' is not defined"
     ]
    }
   ],
   "source": [
    "print(math.cos(2))"
   ]
  },
  {
   "cell_type": "code",
   "execution_count": 11,
   "metadata": {},
   "outputs": [
    {
     "name": "stdout",
     "output_type": "stream",
     "text": [
      "-0.4161468365471424\n"
     ]
    }
   ],
   "source": [
    "import math\n",
    "print(math.cos(2)) #cosine"
   ]
  },
  {
   "cell_type": "code",
   "execution_count": 16,
   "metadata": {},
   "outputs": [
    {
     "name": "stdout",
     "output_type": "stream",
     "text": [
      "-0.4161468365471424\n",
      "0.6931471805599453\n",
      "2.0\n"
     ]
    }
   ],
   "source": [
    "import math as m\n",
    "print(m.cos(2)) \n",
    "print(m.log(2)) #logarithm\n",
    "print(m.fabs(-2)) #absolute value"
   ]
  },
  {
   "cell_type": "markdown",
   "metadata": {},
   "source": [
    "It also provides values of mathematical constants"
   ]
  },
  {
   "cell_type": "code",
   "execution_count": 26,
   "metadata": {},
   "outputs": [
    {
     "name": "stdout",
     "output_type": "stream",
     "text": [
      "3.141592653589793\n",
      "2.718281828459045\n"
     ]
    }
   ],
   "source": [
    "print(math.pi)\n",
    "print(math.e)"
   ]
  },
  {
   "cell_type": "markdown",
   "metadata": {},
   "source": [
    "### Lists\n",
    "A list is a set of ordered elements. To define a list, put the elements in brackets $\\left[ \\right]$."
   ]
  },
  {
   "cell_type": "code",
   "execution_count": 17,
   "metadata": {},
   "outputs": [
    {
     "name": "stdout",
     "output_type": "stream",
     "text": [
      "[2, 3, 5, 7, 11, 13, 17]\n",
      "[]\n",
      "[10]\n"
     ]
    }
   ],
   "source": [
    "#Here we define a list of prime numbers. The variable \"primes\" is not a number but a list!\n",
    "primes=[2,3,5,7,11,13,17]\n",
    "print(primes)\n",
    "\n",
    "#This is an empty list\n",
    "empty=[]\n",
    "print(empty)\n",
    "\n",
    "#This is a list with one element\n",
    "one_element=[10]\n",
    "print(one_element)"
   ]
  },
  {
   "cell_type": "markdown",
   "metadata": {},
   "source": [
    "To access an element of the list, use $[]$. "
   ]
  },
  {
   "cell_type": "code",
   "execution_count": 20,
   "metadata": {},
   "outputs": [
    {
     "name": "stdout",
     "output_type": "stream",
     "text": [
      "7\n",
      "13\n"
     ]
    }
   ],
   "source": [
    "print(primes[3])\n",
    "print(primes[5])"
   ]
  },
  {
   "cell_type": "code",
   "execution_count": 19,
   "metadata": {},
   "outputs": [
    {
     "name": "stdout",
     "output_type": "stream",
     "text": [
      "[2, 3, 5, 7, 11, 13, 17, 19]\n",
      "8\n",
      "[2, 3, 5, 7, 11, 13, 17, 19, 23, 29, 31, 37]\n"
     ]
    }
   ],
   "source": [
    "#It is possible to add new elements using the + sign\n",
    "primes=primes+[19]\n",
    "print(primes)\n",
    "\n",
    "#To see the length of the list, use len()\n",
    "print(len(primes))\n",
    "\n",
    "#To merge two lists, just add them\n",
    "more_primes=[23,29,31,37]\n",
    "print(primes+more_primes)"
   ]
  },
  {
   "cell_type": "markdown",
   "metadata": {},
   "source": [
    "There are some built-in functions that create lists"
   ]
  },
  {
   "cell_type": "code",
   "execution_count": 23,
   "metadata": {},
   "outputs": [
    {
     "name": "stdout",
     "output_type": "stream",
     "text": [
      "[1, 2, 3, 4, 5, 6, 7, 8, 9]\n",
      "range(5, 20)\n",
      "range(0, 20, 2)\n"
     ]
    }
   ],
   "source": [
    "#range() automatically creates a list of numbers. It has several variations. \n",
    "\n",
    "list_example_1 = [i for i in range(1,10)]\n",
    "print(list_example_1)\n",
    "\n",
    "list_example_2= [range(5,20)]\n",
    "print(list_example_2)\n",
    "\n",
    "list_example_3 = [range(0,20,2)]\n",
    "print(list_example_3)\n"
   ]
  },
  {
   "cell_type": "markdown",
   "metadata": {},
   "source": [
    "### Writing a Python program. First things to know:\n",
    "A program is a list of instructions. The instructions read line by line and executed. \n",
    "Indentation matters: instructions that are have to be indented \n",
    "We have differet \"types\" of instructions: arithmetic operations, assignations, input/output, loops, functions and many more. \n",
    "If you have any question, ask Google!"
   ]
  },
  {
   "cell_type": "code",
   "execution_count": 22,
   "metadata": {},
   "outputs": [
    {
     "name": "stdout",
     "output_type": "stream",
     "text": [
      "Enter lower range: 1\n",
      "Enter upper range: 10\n",
      "3\n",
      "5\n",
      "5\n",
      "5\n",
      "7\n",
      "7\n",
      "7\n",
      "7\n",
      "7\n",
      "9\n"
     ]
    }
   ],
   "source": [
    "#This is an example of a Python program. It is a program to find all the prime numbers in a certain number range. \n",
    "#Anything after a # is not \"part\" of the program, it is just a comment\n",
    "\n",
    "# Take input from the user and assign the value to variables\n",
    "lower = int(input(\"Enter lower range: \"))\n",
    "upper = int(input(\"Enter upper range: \"))\n",
    "\n",
    "#For loop\n",
    "for num in range(lower,upper + 1):\n",
    "    #Conditional expression, checks if the number num is greater than 1\n",
    "    if num > 1:\n",
    "        #Another loop\n",
    "        for i in range(2,num):\n",
    "            #Another conditional\n",
    "            if (num % i) == 0:\n",
    "                break\n",
    "            else:\n",
    "                #output\n",
    "                print(num)"
   ]
  },
  {
   "cell_type": "markdown",
   "metadata": {
    "collapsed": true
   },
   "source": [
    "## Functions, loops and conditional statements\n",
    "### Functions\n",
    "#### You can define functions using \"def\""
   ]
  },
  {
   "cell_type": "code",
   "execution_count": 11,
   "metadata": {},
   "outputs": [],
   "source": [
    "#f(z)=z^3\n",
    "def cube (z):\n",
    "    return z*z*z\n",
    "    \n",
    "#f(z)=1/z\n",
    "def inverse (z):\n",
    "    return 1./z\n",
    "    \n",
    "#a function that returns a sentence\n",
    "def hi ():\n",
    "    return \"Hello you!\"\n",
    "        "
   ]
  },
  {
   "cell_type": "markdown",
   "metadata": {},
   "source": [
    "Once defined, functions can be called any time. To call a function, the input has to be in brackets $()$"
   ]
  },
  {
   "cell_type": "code",
   "execution_count": 12,
   "metadata": {},
   "outputs": [
    {
     "name": "stdout",
     "output_type": "stream",
     "text": [
      "729 0.1111111111111111 Hello you!\n"
     ]
    }
   ],
   "source": [
    "#assign to a the value of 2+9i\n",
    "a=9\n",
    "#call the functions defined above with a as input\n",
    "print(cube(a), inverse(a), hi())"
   ]
  },
  {
   "cell_type": "markdown",
   "metadata": {},
   "source": [
    "Functions can have more than one argument"
   ]
  },
  {
   "cell_type": "code",
   "execution_count": 32,
   "metadata": {},
   "outputs": [
    {
     "name": "stdout",
     "output_type": "stream",
     "text": [
      "1.5\n"
     ]
    }
   ],
   "source": [
    "#this function computes the average of two numbers\n",
    "def average (z,w):\n",
    "    return (z+w)/2\n",
    "\n",
    "print(average(1,2))"
   ]
  },
  {
   "cell_type": "markdown",
   "metadata": {},
   "source": [
    "### Loops\n",
    "#### The 'for' loop\n",
    "It is possible to repeat the same indented block a certain ammount of times by using the instruction \"for\". T"
   ]
  },
  {
   "cell_type": "code",
   "execution_count": 33,
   "metadata": {},
   "outputs": [
    {
     "name": "stdout",
     "output_type": "stream",
     "text": [
      "0\n",
      "1\n",
      "2\n",
      "3\n",
      "4\n",
      "5\n",
      "6\n",
      "7\n",
      "8\n",
      "9\n"
     ]
    }
   ],
   "source": [
    "#Print all numbers from 0 to 9\n",
    "#This repeats the instruction \"print i\" 10 times, for values of i from 0 to 9. \n",
    "for i in range(10):\n",
    "       print(i)"
   ]
  },
  {
   "cell_type": "code",
   "execution_count": 27,
   "metadata": {},
   "outputs": [
    {
     "name": "stdout",
     "output_type": "stream",
     "text": [
      "45\n"
     ]
    }
   ],
   "source": [
    "#Add all numbers from 0 to 9\n",
    "sum=0\n",
    "for i in range(10):\n",
    "    sum=sum+i\n",
    "print(sum)"
   ]
  },
  {
   "cell_type": "code",
   "execution_count": 28,
   "metadata": {},
   "outputs": [
    {
     "name": "stdout",
     "output_type": "stream",
     "text": [
      "This is an example\n",
      "Now a has the value: 1\n",
      "This is an example\n",
      "Now a has the value: 2\n",
      "This is an example\n",
      "Now a has the value: 5\n",
      "This is an example\n",
      "Now a has the value: 6\n",
      "This is an example\n",
      "Now a has the value: 8\n",
      "This is an example\n",
      "Now a has the value: 9\n"
     ]
    }
   ],
   "source": [
    "#Here 'a' takes values in the given list\n",
    "for a in [1,2,5,6,8,9]:\n",
    "    print(\"This is an example\")\n",
    "    print(\"Now a has the value:\", a)\n",
    "    "
   ]
  },
  {
   "cell_type": "markdown",
   "metadata": {},
   "source": [
    "### Conditional statements\n",
    "#### The conditional 'if/else'\n",
    "The instruction if checks if the given condition is true or false. If it is true, the indented block below is executed, if it is false, it is skipped."
   ]
  },
  {
   "cell_type": "code",
   "execution_count": 30,
   "metadata": {},
   "outputs": [
    {
     "name": "stdout",
     "output_type": "stream",
     "text": [
      "4\n",
      "4 is not equal to 3\n"
     ]
    }
   ],
   "source": [
    "#read input \n",
    "a=input()\n",
    "\n",
    "#check if the condition is true, this will be printed\n",
    "if a==3:\n",
    "    print(\"a is equal to 3\")\n",
    "\n",
    "#if it is false, then this will be printed\n",
    "else:\n",
    "    print(a,\"is not equal to 3\")\n",
    "    "
   ]
  },
  {
   "cell_type": "markdown",
   "metadata": {},
   "source": [
    "Combining loops and conditional statements"
   ]
  },
  {
   "cell_type": "code",
   "execution_count": 31,
   "metadata": {},
   "outputs": [
    {
     "name": "stdout",
     "output_type": "stream",
     "text": [
      "20 is divisible by 1\n",
      "20 is divisible by 2\n",
      "20 is divisible by 4\n",
      "20 is divisible by 5\n",
      "20 is divisible by 10\n"
     ]
    }
   ],
   "source": [
    "a=20\n",
    "#for all numbers from 1 to 10, check is the remainder of 20 divided by that number is 0\n",
    "#in such case, print the number.\n",
    "#the operation a%b returns the remainder of the division a/b\n",
    "for i in range(1,11):\n",
    "    if a%i==0:\n",
    "        print(a,\"is divisible by\",i)"
   ]
  },
  {
   "cell_type": "markdown",
   "metadata": {
    "collapsed": true
   },
   "source": [
    "# Numpy \n",
    "\n",
    "NumPy is the fundamental package for scientific computing with Python."
   ]
  },
  {
   "cell_type": "code",
   "execution_count": null,
   "metadata": {},
   "outputs": [],
   "source": [
    "#import numpy library and \n",
    "import numpy as np"
   ]
  },
  {
   "cell_type": "code",
   "execution_count": null,
   "metadata": {},
   "outputs": [],
   "source": []
  },
  {
   "cell_type": "code",
   "execution_count": null,
   "metadata": {},
   "outputs": [],
   "source": []
  },
  {
   "cell_type": "markdown",
   "metadata": {},
   "source": [
    "# Exercises\n",
    "\n",
    "#### 1-Create a list of and numbers, convert it into a $\\text{numpy}$ array and output the properties. "
   ]
  },
  {
   "cell_type": "code",
   "execution_count": null,
   "metadata": {},
   "outputs": [],
   "source": []
  },
  {
   "cell_type": "markdown",
   "metadata": {},
   "source": [
    "#### 2-Create a function that computes the average of a list. "
   ]
  },
  {
   "cell_type": "code",
   "execution_count": null,
   "metadata": {},
   "outputs": [],
   "source": []
  },
  {
   "cell_type": "markdown",
   "metadata": {},
   "source": [
    "#### 3- Write a function that returns the factorial of an integer. "
   ]
  },
  {
   "cell_type": "code",
   "execution_count": null,
   "metadata": {},
   "outputs": [],
   "source": []
  }
 ],
 "metadata": {
  "kernelspec": {
   "display_name": "Python 3",
   "language": "python",
   "name": "python3"
  },
  "language_info": {
   "codemirror_mode": {
    "name": "ipython",
    "version": 3
   },
   "file_extension": ".py",
   "mimetype": "text/x-python",
   "name": "python",
   "nbconvert_exporter": "python",
   "pygments_lexer": "ipython3",
   "version": "3.7.3"
  }
 },
 "nbformat": 4,
 "nbformat_minor": 1
}
